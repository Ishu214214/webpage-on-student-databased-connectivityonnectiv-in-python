{
 "cells": [
  {
   "cell_type": "code",
   "execution_count": 1,
   "id": "0b242d87",
   "metadata": {},
   "outputs": [],
   "source": [
    "import sqlite3"
   ]
  },
  {
   "cell_type": "code",
   "execution_count": 2,
   "id": "416d7586",
   "metadata": {
    "collapsed": true
   },
   "outputs": [
    {
     "name": "stdout",
     "output_type": "stream",
     "text": [
      "Defaulting to user installation because normal site-packages is not writeable\n",
      "Requirement already satisfied: virtualenv in c:\\users\\ishuk\\appdata\\roaming\\python\\python39\\site-packages (20.23.0)\n",
      "Requirement already satisfied: platformdirs<4,>=3.2 in c:\\users\\ishuk\\appdata\\roaming\\python\\python39\\site-packages (from virtualenv) (3.5.0)\n",
      "Requirement already satisfied: filelock<4,>=3.11 in c:\\users\\ishuk\\appdata\\roaming\\python\\python39\\site-packages (from virtualenv) (3.12.0)\n",
      "Requirement already satisfied: distlib<1,>=0.3.6 in c:\\users\\ishuk\\appdata\\roaming\\python\\python39\\site-packages (from virtualenv) (0.3.6)\n"
     ]
    },
    {
     "name": "stderr",
     "output_type": "stream",
     "text": [
      "WARNING: Ignoring invalid distribution -rotobuf (c:\\users\\ishuk\\appdata\\roaming\\python\\python39\\site-packages)\n",
      "WARNING: Ignoring invalid distribution -rotobuf (c:\\users\\ishuk\\appdata\\roaming\\python\\python39\\site-packages)\n",
      "WARNING: Ignoring invalid distribution -rotobuf (c:\\users\\ishuk\\appdata\\roaming\\python\\python39\\site-packages)\n",
      "WARNING: Ignoring invalid distribution -rotobuf (c:\\users\\ishuk\\appdata\\roaming\\python\\python39\\site-packages)\n",
      "WARNING: Ignoring invalid distribution -rotobuf (c:\\users\\ishuk\\appdata\\roaming\\python\\python39\\site-packages)\n",
      "WARNING: Ignoring invalid distribution -rotobuf (c:\\users\\ishuk\\appdata\\roaming\\python\\python39\\site-packages)\n"
     ]
    }
   ],
   "source": [
    "!pip install virtualenv"
   ]
  },
  {
   "cell_type": "code",
   "execution_count": 3,
   "id": "5a687d08",
   "metadata": {},
   "outputs": [],
   "source": [
    "import os\n",
    "os.mkdir('static')\n",
    "os.mkdir('templates')\n"
   ]
  },
  {
   "cell_type": "code",
   "execution_count": 4,
   "id": "5bf1d6fe",
   "metadata": {},
   "outputs": [
    {
     "name": "stdout",
     "output_type": "stream",
     "text": [
      "Opened database successfully\n",
      "Table created successfully\n"
     ]
    }
   ],
   "source": [
    "import sqlite3\n",
    "\n",
    "conn=sqlite3.connect(\"C:\\\\Users\\\\ishuk\\\\Desktop\\\\sem 6\\\\lab\\\\python\\\\12\\\\my_db.db\")\n",
    "print (\"Opened database successfully\")\n",
    "\n",
    "conn.execute('CREATE TABLE students (name TEXT, addr TEXT, city TEXT, pin TEXT)')\n",
    "print (\"Table created successfully\");\n",
    "conn.close()\n"
   ]
  },
  {
   "cell_type": "code",
   "execution_count": 8,
   "id": "f4f6726e",
   "metadata": {},
   "outputs": [
    {
     "name": "stdout",
     "output_type": "stream",
     "text": [
      "Opened database successfully\n",
      "('students',)\n"
     ]
    }
   ],
   "source": [
    "conn=sqlite3.connect(\"C:\\\\Users\\\\ishuk\\\\Desktop\\\\sem 6\\\\lab\\\\python\\\\12\\\\my_db.db\")\n",
    "\n",
    "print (\"Opened database successfully\")\n",
    "r_set=conn.execute('''select name from sqlite_master where type = 'table' ''')\n",
    "for row in r_set:\n",
    "    print(row)\n",
    " "
   ]
  },
  {
   "cell_type": "code",
   "execution_count": 9,
   "id": "2e742958",
   "metadata": {},
   "outputs": [
    {
     "name": "stdout",
     "output_type": "stream",
     "text": [
      "No of Records added :  3\n"
     ]
    }
   ],
   "source": [
    "r_set=conn.execute('''INSERT INTO students (`name`, `addr`, `city`, `pin`) VALUES\n",
    "  ('John Deo', 'gopalpura','jaipur', '302018'),\n",
    "  ('Mohan', 'Malviya Nagar','jaipur', '302021'),\n",
    "  ('Rows Noump', 'sitapura', 'agra', '302012');''')\n",
    "\n",
    "print(\"No of Records added : \",r_set.rowcount)\n"
   ]
  },
  {
   "cell_type": "code",
   "execution_count": 10,
   "id": "aa05781f",
   "metadata": {},
   "outputs": [
    {
     "name": "stdout",
     "output_type": "stream",
     "text": [
      "('John Deo', 'gopalpura', 'jaipur', '302018')\n",
      "('Mohan', 'Malviya Nagar', 'jaipur', '302021')\n",
      "('Rows Noump', 'sitapura', 'agra', '302012')\n"
     ]
    }
   ],
   "source": [
    "r_set=conn.execute('''SELECT * from students''');\n",
    "for row in r_set:\n",
    "    print(row)"
   ]
  },
  {
   "cell_type": "code",
   "execution_count": 11,
   "id": "69aa4758",
   "metadata": {},
   "outputs": [
    {
     "name": "stdout",
     "output_type": "stream",
     "text": [
      "Records updated\n"
     ]
    }
   ],
   "source": [
    "q=\"update students set city='KOTA' WHERE pin=302012\"\n",
    "r_set=conn.execute(q)\n",
    "print(\"Records updated\")"
   ]
  },
  {
   "cell_type": "code",
   "execution_count": 12,
   "id": "339d2c55",
   "metadata": {},
   "outputs": [
    {
     "name": "stdout",
     "output_type": "stream",
     "text": [
      "('John Deo', 'gopalpura', 'jaipur', '302018')\n",
      "('Mohan', 'Malviya Nagar', 'jaipur', '302021')\n",
      "('Rows Noump', 'sitapura', 'KOTA', '302012')\n"
     ]
    }
   ],
   "source": [
    "r_set=conn.execute('''SELECT * from students''');\n",
    "for row in r_set:\n",
    "    print(row)"
   ]
  },
  {
   "cell_type": "code",
   "execution_count": 14,
   "id": "19717ac7",
   "metadata": {},
   "outputs": [],
   "source": [
    "r_set=conn.execute('''Delete from students where city='KOTA' ''');\n",
    "for row in r_set:\n",
    "    print(\"Delete command executed sucessfully\")"
   ]
  },
  {
   "cell_type": "code",
   "execution_count": 15,
   "id": "4a90ecc4",
   "metadata": {},
   "outputs": [
    {
     "name": "stdout",
     "output_type": "stream",
     "text": [
      "('John Deo', 'gopalpura', 'jaipur', '302018')\n",
      "('Mohan', 'Malviya Nagar', 'jaipur', '302021')\n"
     ]
    }
   ],
   "source": [
    "r_set=conn.execute('''SELECT * from students''');\n",
    "for row in r_set:\n",
    "    print(row)"
   ]
  },
  {
   "cell_type": "code",
   "execution_count": 16,
   "id": "eca5f6f5",
   "metadata": {},
   "outputs": [],
   "source": [
    "r_set=conn.execute('''Drop table students''');\n",
    "for row in r_set:\n",
    "    print(\"drop command executed sucessfully\")"
   ]
  },
  {
   "cell_type": "code",
   "execution_count": null,
   "id": "525118e9",
   "metadata": {},
   "outputs": [],
   "source": []
  },
  {
   "cell_type": "code",
   "execution_count": 19,
   "id": "0af96c5a",
   "metadata": {},
   "outputs": [],
   "source": [
    "var='''\n",
    "<html>\n",
    "   <body>\n",
    "     \n",
    "         <h1>Welcome to the Student DataBase </h1>\n",
    "         <h2><a href = \"{{url_for('new_student')}}\">Add Students in DataBase</a></h2>\n",
    "         <h2><a href = \"{{url_for('del_student')}}\">Delete DataBase</a></h2>\n",
    "         <h2><a href = \"{{url_for('list')}}\">Show Student List from  DataBase</a></h2>\n",
    "         \n",
    "   </body>\n",
    "</html>\n",
    "'''\n",
    "file=open(\"templates/home.html\",\"w\")\n",
    "file.write(var)\n",
    "file.close()"
   ]
  },
  {
   "cell_type": "code",
   "execution_count": 20,
   "id": "61c96dfa",
   "metadata": {},
   "outputs": [],
   "source": [
    "var='''\n",
    "<html>\n",
    "   <body>\n",
    "      <form action = \"{{ url_for('addrec') }}\" method = \"POST\">\n",
    "         <h3>Student Information</h3>\n",
    "         Name<br>\n",
    "         <input type = \"text\" name = \"nm\" /></br>\n",
    "         \n",
    "         Address<br>\n",
    "         <textarea name = \"add\" ></textarea><br>\n",
    "         \n",
    "         City<br>\n",
    "         <input type = \"text\" name = \"city\" /><br>\n",
    "         \n",
    "         PINCODE<br>\n",
    "         <input type = \"text\" name = \"pin\" /><br>\n",
    "         <input type = \"submit\" value = \"submit\" /><br>\n",
    "      </form>\n",
    "   </body>\n",
    "</html>\n",
    "'''\n",
    "file=open(\"templates/student.html\",\"w\")\n",
    "file.write(var)\n",
    "file.close()"
   ]
  },
  {
   "cell_type": "code",
   "execution_count": 21,
   "id": "b07e6dc4",
   "metadata": {},
   "outputs": [],
   "source": [
    "var='''\n",
    "<html>\n",
    "   <body>\n",
    "      <table border = 1>\n",
    "         <thead>\n",
    "            <td>Name</td>\n",
    "            <td>Address</td>\n",
    "            <td>city</td>\n",
    "            <td>Pincode</td>\n",
    "         </thead>\n",
    "         \n",
    "         {% for row in rows %}\n",
    "            <tr>\n",
    "               <td>{{row[\"name\"]}}</td>\n",
    "               <td>{{row[\"addr\"]}}</td>\n",
    "               <td>{{ row[\"city\"]}}</td>\n",
    "               <td>{{row[\"pin\"]}}</td>\t\n",
    "            </tr>\n",
    "         {% endfor %}\n",
    "      </table>\n",
    "      \n",
    "      <a href = \"/\">Go back to home page</a>\n",
    "   </body>\n",
    "</html>\n",
    "'''\n",
    "file=open(\"templates/list.html\",\"w\")\n",
    "file.write(var)\n",
    "file.close()"
   ]
  },
  {
   "cell_type": "code",
   "execution_count": 22,
   "id": "4a9e9cce",
   "metadata": {},
   "outputs": [],
   "source": [
    "var='''\n",
    "<html>\n",
    "   <body>\n",
    "      <h1> {{msg}}</h1>\n",
    "      \n",
    "      <a href = \"/\">Go back to home page</a>\n",
    "   </body>\n",
    "</html>\n",
    "'''\n",
    "file=open(\"templates/result.html\",\"w\")\n",
    "file.write(var)\n",
    "file.close()"
   ]
  },
  {
   "cell_type": "code",
   "execution_count": 23,
   "id": "90d5873e",
   "metadata": {
    "collapsed": true
   },
   "outputs": [
    {
     "name": "stdout",
     "output_type": "stream",
     "text": [
      "Defaulting to user installation because normal site-packages is not writeable\n",
      "Requirement already satisfied: virtualenv in c:\\users\\ishuk\\appdata\\roaming\\python\\python39\\site-packages (20.23.0)\n",
      "Requirement already satisfied: distlib<1,>=0.3.6 in c:\\users\\ishuk\\appdata\\roaming\\python\\python39\\site-packages (from virtualenv) (0.3.6)\n",
      "Requirement already satisfied: filelock<4,>=3.11 in c:\\users\\ishuk\\appdata\\roaming\\python\\python39\\site-packages (from virtualenv) (3.12.0)\n",
      "Requirement already satisfied: platformdirs<4,>=3.2 in c:\\users\\ishuk\\appdata\\roaming\\python\\python39\\site-packages (from virtualenv) (3.5.0)\n"
     ]
    },
    {
     "name": "stderr",
     "output_type": "stream",
     "text": [
      "WARNING: Ignoring invalid distribution -rotobuf (c:\\users\\ishuk\\appdata\\roaming\\python\\python39\\site-packages)\n",
      "WARNING: Ignoring invalid distribution -rotobuf (c:\\users\\ishuk\\appdata\\roaming\\python\\python39\\site-packages)\n",
      "WARNING: Ignoring invalid distribution -rotobuf (c:\\users\\ishuk\\appdata\\roaming\\python\\python39\\site-packages)\n",
      "WARNING: Ignoring invalid distribution -rotobuf (c:\\users\\ishuk\\appdata\\roaming\\python\\python39\\site-packages)\n",
      "WARNING: Ignoring invalid distribution -rotobuf (c:\\users\\ishuk\\appdata\\roaming\\python\\python39\\site-packages)\n",
      "WARNING: Ignoring invalid distribution -rotobuf (c:\\users\\ishuk\\appdata\\roaming\\python\\python39\\site-packages)\n"
     ]
    }
   ],
   "source": [
    "!pip install virtualenv"
   ]
  },
  {
   "cell_type": "code",
   "execution_count": 24,
   "id": "01eca9a8",
   "metadata": {
    "collapsed": true
   },
   "outputs": [
    {
     "name": "stdout",
     "output_type": "stream",
     "text": [
      "Defaulting to user installation because normal site-packages is not writeable\n",
      "Requirement already satisfied: Flask in c:\\programdata\\anaconda3\\lib\\site-packages (1.1.2)\n",
      "Requirement already satisfied: itsdangerous>=0.24 in c:\\programdata\\anaconda3\\lib\\site-packages (from Flask) (2.0.1)\n",
      "Requirement already satisfied: click>=5.1 in c:\\programdata\\anaconda3\\lib\\site-packages (from Flask) (7.1.2)\n",
      "Requirement already satisfied: Jinja2>=2.10.1 in c:\\programdata\\anaconda3\\lib\\site-packages (from Flask) (2.11.3)\n",
      "Requirement already satisfied: Werkzeug>=0.15 in c:\\programdata\\anaconda3\\lib\\site-packages (from Flask) (2.0.3)\n",
      "Requirement already satisfied: MarkupSafe>=0.23 in c:\\programdata\\anaconda3\\lib\\site-packages (from Jinja2>=2.10.1->Flask) (2.0.1)\n"
     ]
    },
    {
     "name": "stderr",
     "output_type": "stream",
     "text": [
      "WARNING: Ignoring invalid distribution -rotobuf (c:\\users\\ishuk\\appdata\\roaming\\python\\python39\\site-packages)\n",
      "WARNING: Ignoring invalid distribution -rotobuf (c:\\users\\ishuk\\appdata\\roaming\\python\\python39\\site-packages)\n",
      "WARNING: Ignoring invalid distribution -rotobuf (c:\\users\\ishuk\\appdata\\roaming\\python\\python39\\site-packages)\n",
      "WARNING: Ignoring invalid distribution -rotobuf (c:\\users\\ishuk\\appdata\\roaming\\python\\python39\\site-packages)\n",
      "WARNING: Ignoring invalid distribution -rotobuf (c:\\users\\ishuk\\appdata\\roaming\\python\\python39\\site-packages)\n",
      "WARNING: Ignoring invalid distribution -rotobuf (c:\\users\\ishuk\\appdata\\roaming\\python\\python39\\site-packages)\n"
     ]
    }
   ],
   "source": [
    "!pip install Flask"
   ]
  },
  {
   "cell_type": "code",
   "execution_count": 25,
   "id": "70079601",
   "metadata": {
    "collapsed": true
   },
   "outputs": [
    {
     "name": "stdout",
     "output_type": "stream",
     "text": [
      "Defaulting to user installation because normal site-packages is not writeable\n",
      "Requirement already satisfied: flask-ngrok in c:\\users\\ishuk\\appdata\\roaming\\python\\python39\\site-packages (0.0.25)\n",
      "Requirement already satisfied: Flask>=0.8 in c:\\programdata\\anaconda3\\lib\\site-packages (from flask-ngrok) (1.1.2)\n",
      "Requirement already satisfied: requests in c:\\programdata\\anaconda3\\lib\\site-packages (from flask-ngrok) (2.27.1)\n",
      "Requirement already satisfied: click>=5.1 in c:\\programdata\\anaconda3\\lib\\site-packages (from Flask>=0.8->flask-ngrok) (7.1.2)\n",
      "Requirement already satisfied: Jinja2>=2.10.1 in c:\\programdata\\anaconda3\\lib\\site-packages (from Flask>=0.8->flask-ngrok) (2.11.3)\n",
      "Requirement already satisfied: Werkzeug>=0.15 in c:\\programdata\\anaconda3\\lib\\site-packages (from Flask>=0.8->flask-ngrok) (2.0.3)\n",
      "Requirement already satisfied: itsdangerous>=0.24 in c:\\programdata\\anaconda3\\lib\\site-packages (from Flask>=0.8->flask-ngrok) (2.0.1)\n",
      "Requirement already satisfied: MarkupSafe>=0.23 in c:\\programdata\\anaconda3\\lib\\site-packages (from Jinja2>=2.10.1->Flask>=0.8->flask-ngrok) (2.0.1)\n"
     ]
    },
    {
     "name": "stderr",
     "output_type": "stream",
     "text": [
      "WARNING: Ignoring invalid distribution -rotobuf (c:\\users\\ishuk\\appdata\\roaming\\python\\python39\\site-packages)\n",
      "WARNING: Ignoring invalid distribution -rotobuf (c:\\users\\ishuk\\appdata\\roaming\\python\\python39\\site-packages)\n",
      "WARNING: Ignoring invalid distribution -rotobuf (c:\\users\\ishuk\\appdata\\roaming\\python\\python39\\site-packages)\n",
      "WARNING: Ignoring invalid distribution -rotobuf (c:\\users\\ishuk\\appdata\\roaming\\python\\python39\\site-packages)\n",
      "WARNING: Ignoring invalid distribution -rotobuf (c:\\users\\ishuk\\appdata\\roaming\\python\\python39\\site-packages)\n",
      "WARNING: Ignoring invalid distribution -rotobuf (c:\\users\\ishuk\\appdata\\roaming\\python\\python39\\site-packages)\n"
     ]
    },
    {
     "name": "stdout",
     "output_type": "stream",
     "text": [
      "Requirement already satisfied: idna<4,>=2.5 in c:\\programdata\\anaconda3\\lib\\site-packages (from requests->flask-ngrok) (3.3)\n",
      "Requirement already satisfied: charset-normalizer~=2.0.0 in c:\\programdata\\anaconda3\\lib\\site-packages (from requests->flask-ngrok) (2.0.4)\n",
      "Requirement already satisfied: certifi>=2017.4.17 in c:\\programdata\\anaconda3\\lib\\site-packages (from requests->flask-ngrok) (2021.10.8)\n",
      "Requirement already satisfied: urllib3<1.27,>=1.21.1 in c:\\programdata\\anaconda3\\lib\\site-packages (from requests->flask-ngrok) (1.26.9)\n"
     ]
    }
   ],
   "source": [
    "!pip install flask-ngrok"
   ]
  },
  {
   "cell_type": "code",
   "execution_count": 27,
   "id": "9d599189",
   "metadata": {
    "collapsed": true
   },
   "outputs": [
    {
     "name": "stdout",
     "output_type": "stream",
     "text": [
      "Defaulting to user installation because normal site-packages is not writeable\n",
      "Requirement already satisfied: pyngrok in c:\\users\\ishuk\\appdata\\roaming\\python\\python39\\site-packages (6.0.0)\n",
      "Requirement already satisfied: PyYAML in c:\\programdata\\anaconda3\\lib\\site-packages (from pyngrok) (6.0)\n"
     ]
    },
    {
     "name": "stderr",
     "output_type": "stream",
     "text": [
      "WARNING: Ignoring invalid distribution -rotobuf (c:\\users\\ishuk\\appdata\\roaming\\python\\python39\\site-packages)\n",
      "WARNING: Ignoring invalid distribution -rotobuf (c:\\users\\ishuk\\appdata\\roaming\\python\\python39\\site-packages)\n",
      "WARNING: Ignoring invalid distribution -rotobuf (c:\\users\\ishuk\\appdata\\roaming\\python\\python39\\site-packages)\n",
      "WARNING: Ignoring invalid distribution -rotobuf (c:\\users\\ishuk\\appdata\\roaming\\python\\python39\\site-packages)\n",
      "WARNING: Ignoring invalid distribution -rotobuf (c:\\users\\ishuk\\appdata\\roaming\\python\\python39\\site-packages)\n",
      "WARNING: Ignoring invalid distribution -rotobuf (c:\\users\\ishuk\\appdata\\roaming\\python\\python39\\site-packages)\n"
     ]
    },
    {
     "name": "stdout",
     "output_type": "stream",
     "text": [
      "Authtoken saved to configuration file: C:\\Users\\ishuk\\.ngrok2\\ngrok.yml\n"
     ]
    }
   ],
   "source": [
    "!pip install pyngrok\n",
    "!ngrok authtoken 2CUIKzhhbsoHHk6GUeiens9G5T9_7weiPkL9r6htxRL9UMwZH"
   ]
  },
  {
   "cell_type": "code",
   "execution_count": 28,
   "id": "743da6a3",
   "metadata": {},
   "outputs": [
    {
     "name": "stderr",
     "output_type": "stream",
     "text": [
      "WARNING: Ignoring invalid distribution -rotobuf (c:\\users\\ishuk\\appdata\\roaming\\python\\python39\\site-packages)\n",
      "WARNING: Ignoring invalid distribution -rotobuf (c:\\users\\ishuk\\appdata\\roaming\\python\\python39\\site-packages)\n",
      "WARNING: Ignoring invalid distribution -rotobuf (c:\\users\\ishuk\\appdata\\roaming\\python\\python39\\site-packages)\n",
      "WARNING: Ignoring invalid distribution -rotobuf (c:\\users\\ishuk\\appdata\\roaming\\python\\python39\\site-packages)\n",
      "WARNING: Ignoring invalid distribution -rotobuf (c:\\users\\ishuk\\appdata\\roaming\\python\\python39\\site-packages)\n",
      "WARNING: Ignoring invalid distribution -rotobuf (c:\\users\\ishuk\\appdata\\roaming\\python\\python39\\site-packages)\n"
     ]
    },
    {
     "name": "stdout",
     "output_type": "stream",
     "text": [
      "Defaulting to user installation because normal site-packages is not writeable\n",
      "Requirement already satisfied: flask-ngrok in c:\\users\\ishuk\\appdata\\roaming\\python\\python39\\site-packages (0.0.25)\n",
      "Requirement already satisfied: requests in c:\\programdata\\anaconda3\\lib\\site-packages (from flask-ngrok) (2.27.1)\n",
      "Requirement already satisfied: Flask>=0.8 in c:\\programdata\\anaconda3\\lib\\site-packages (from flask-ngrok) (1.1.2)\n",
      "Requirement already satisfied: click>=5.1 in c:\\programdata\\anaconda3\\lib\\site-packages (from Flask>=0.8->flask-ngrok) (7.1.2)\n",
      "Requirement already satisfied: Jinja2>=2.10.1 in c:\\programdata\\anaconda3\\lib\\site-packages (from Flask>=0.8->flask-ngrok) (2.11.3)\n",
      "Requirement already satisfied: Werkzeug>=0.15 in c:\\programdata\\anaconda3\\lib\\site-packages (from Flask>=0.8->flask-ngrok) (2.0.3)\n",
      "Requirement already satisfied: itsdangerous>=0.24 in c:\\programdata\\anaconda3\\lib\\site-packages (from Flask>=0.8->flask-ngrok) (2.0.1)\n",
      "Requirement already satisfied: MarkupSafe>=0.23 in c:\\programdata\\anaconda3\\lib\\site-packages (from Jinja2>=2.10.1->Flask>=0.8->flask-ngrok) (2.0.1)\n",
      "Requirement already satisfied: charset-normalizer~=2.0.0 in c:\\programdata\\anaconda3\\lib\\site-packages (from requests->flask-ngrok) (2.0.4)\n",
      "Requirement already satisfied: idna<4,>=2.5 in c:\\programdata\\anaconda3\\lib\\site-packages (from requests->flask-ngrok) (3.3)\n",
      "Requirement already satisfied: urllib3<1.27,>=1.21.1 in c:\\programdata\\anaconda3\\lib\\site-packages (from requests->flask-ngrok) (1.26.9)\n",
      "Requirement already satisfied: certifi>=2017.4.17 in c:\\programdata\\anaconda3\\lib\\site-packages (from requests->flask-ngrok) (2021.10.8)\n",
      " * Serving Flask app \"__main__\" (lazy loading)\n",
      " * Environment: production\n",
      "   WARNING: This is a development server. Do not use it in a production deployment.\n",
      "   Use a production WSGI server instead.\n",
      " * Debug mode: off\n"
     ]
    },
    {
     "name": "stderr",
     "output_type": "stream",
     "text": [
      " * Running on http://127.0.0.1:5000/ (Press CTRL+C to quit)\n",
      "127.0.0.1 - - [25/May/2023 11:05:04] \"GET / HTTP/1.1\" 200 -\n"
     ]
    },
    {
     "name": "stdout",
     "output_type": "stream",
     "text": [
      " * Running on http://e07f-42-105-48-210.ngrok-free.app\n",
      " * Traffic stats available on http://127.0.0.1:4040\n"
     ]
    },
    {
     "name": "stderr",
     "output_type": "stream",
     "text": [
      "127.0.0.1 - - [25/May/2023 11:05:06] \"GET /enternew HTTP/1.1\" 200 -\n",
      "127.0.0.1 - - [25/May/2023 11:05:56] \"GET /del_student HTTP/1.1\" 200 -\n",
      "127.0.0.1 - - [25/May/2023 11:06:00] \"GET /list HTTP/1.1\" 200 -\n",
      "127.0.0.1 - - [25/May/2023 11:06:11] \"GET /enternew HTTP/1.1\" 200 -\n",
      "127.0.0.1 - - [25/May/2023 11:06:21] \"POST /addrec HTTP/1.1\" 200 -\n",
      "127.0.0.1 - - [25/May/2023 11:06:23] \"GET / HTTP/1.1\" 200 -\n",
      "127.0.0.1 - - [25/May/2023 11:06:25] \"GET /list HTTP/1.1\" 200 -\n",
      "127.0.0.1 - - [25/May/2023 11:06:27] \"GET / HTTP/1.1\" 200 -\n",
      "127.0.0.1 - - [25/May/2023 11:06:29] \"GET /del_student HTTP/1.1\" 200 -\n",
      "127.0.0.1 - - [25/May/2023 11:06:31] \"GET / HTTP/1.1\" 200 -\n",
      "127.0.0.1 - - [25/May/2023 11:06:32] \"GET /list HTTP/1.1\" 200 -\n",
      "127.0.0.1 - - [25/May/2023 11:06:34] \"GET / HTTP/1.1\" 200 -\n"
     ]
    }
   ],
   "source": [
    "!pip install flask-ngrok \n",
    "import sqlite3\n",
    "from flask import Flask,render_template,request,url_for\n",
    "from flask_ngrok import run_with_ngrok\n",
    "app = Flask(__name__)\n",
    "run_with_ngrok(app)\n",
    "\n",
    "@app.route('/')\n",
    "def home():\n",
    "  \n",
    "    return  render_template('home.html')\n",
    "\n",
    "@app.route('/enternew')\n",
    "def new_student():\n",
    "   return render_template('student.html')    \n",
    "\n",
    "@app.route('/addrec',methods = ['POST', 'GET'])\n",
    "def addrec():\n",
    "   if request.method == 'POST':\n",
    "      #try:\n",
    "         nm = request.form.get('nm')\n",
    "         addr = request.form.get('add')\n",
    "         city = request.form.get('city')\n",
    "         pin = request.form.get('pin')\n",
    "         conn=sqlite3.connect(\"C:\\\\Users\\\\ishuk\\\\Desktop\\\\sem 6\\\\lab\\\\python\\\\12\\\\my_db.db\")\n",
    "            \n",
    "         cur = conn.cursor()\n",
    "         cur.execute(\"INSERT INTO students (name,addr,city,pin) VALUES (?,?,?,?)\",(nm,addr,city,pin))\n",
    "         conn.commit()  \n",
    "         msg = \"Student successfully Added\"  \n",
    "         return render_template(\"result.html\",msg = msg)\n",
    "         conn.close()\n",
    "\n",
    "@app.route('/list')\n",
    "def list():\n",
    "   \n",
    "   \n",
    "    conn=sqlite3.connect(\"C:\\\\Users\\\\ishuk\\\\Desktop\\\\sem 6\\\\lab\\\\python\\\\12\\\\my_db.db\")\n",
    "  \n",
    "    conn.row_factory = sqlite3.Row  \n",
    "    cur = conn.cursor()  \n",
    "    cur.execute(\"select * from students\")  \n",
    "    rows = cur.fetchall()  \n",
    "    return render_template(\"list.html\",rows = rows)  \n",
    "\n",
    "@app.route('/del_student')\n",
    "def del_student():\n",
    "    conn=sqlite3.connect(\"C:\\\\Users\\\\ishuk\\\\Desktop\\\\sem 6\\\\lab\\\\python\\\\12\\\\my_db.db\")\n",
    "  \n",
    "      \n",
    "    cur = conn.cursor()  \n",
    "    cur.execute(\"delete from students\")\n",
    "    conn.commit()    \n",
    "    return render_template(\"list.html\") \n",
    "\n",
    "    \n",
    "\n",
    "\n",
    "\n",
    "if __name__ == '__main__':\n",
    "   app.run() "
   ]
  },
  {
   "cell_type": "code",
   "execution_count": null,
   "id": "edf6f5ef",
   "metadata": {},
   "outputs": [],
   "source": []
  }
 ],
 "metadata": {
  "kernelspec": {
   "display_name": "Python 3 (ipykernel)",
   "language": "python",
   "name": "python3"
  },
  "language_info": {
   "codemirror_mode": {
    "name": "ipython",
    "version": 3
   },
   "file_extension": ".py",
   "mimetype": "text/x-python",
   "name": "python",
   "nbconvert_exporter": "python",
   "pygments_lexer": "ipython3",
   "version": "3.9.12"
  }
 },
 "nbformat": 4,
 "nbformat_minor": 5
}
